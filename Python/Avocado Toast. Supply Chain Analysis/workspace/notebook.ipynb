{
 "cells": [
  {
   "cell_type": "markdown",
   "metadata": {},
   "source": [
    "Apply your data manipulation and analysis skills to investigate the supply chain of ingredients for making avocado toast in the U.K. Your task is to determine the following information:\n",
    "\n",
    "The name of the most common country of origin for each of the three key ingredients: avocados, olive oil, and sourdough.\n",
    "Store the most common country of origin for each ingredient in the following variables: top_avocado_origin, top_olive_oil_origin, and top_sourdough_origin. Ensure that the country names contain only letters (A-Z) and spaces, with no hyphens or other characters.\n",
    "\n",
    "To focus your analysis, subset each of the DataFrames to include only these relevant columns: 'code', 'lc', 'productnameen', 'quantity', 'servingsize', 'packagingtags', 'brands', 'brandstags', 'categoriestags', 'labelstags', 'countries', 'countriestags', 'origins', 'origins_tags'.\n",
    "\n",
    "After completing this project, feel free to explore other questions using the food data!"
   ]
  },
  {
   "cell_type": "code",
   "execution_count": 19,
   "metadata": {},
   "outputs": [],
   "source": [
    "######################################################"
   ]
  },
  {
   "cell_type": "markdown",
   "metadata": {},
   "source": [
    "Begin by reading the avocado data from CSV file in the data folder - it is actually tab-delimited. This creates quite a large DataFrame, so it's a good idea to subset it to only a smaller number of relevant columns. Then read in the file for relevant category tags for avocados.\n",
    "\n",
    "Filter avocado data using relevant category tags\n",
    "Each food DataFrame contains a column called categories_tags, which contains the food item category, e.g., fruits, vegetables, fruit-based oils, etc. Start by dropping rows with null values in categories_tags. This column is comma-separated, so you'll first need to turn it into a column of lists so that you can treat each item in the list as a separate tag. Filter this reduced DataFrame to contain only the rows where there is a relevant category tag.\n",
    "\n",
    "Your avocado DataFrame should contain a column called origins_tags. Create a variable called top_avocado_origin, containing the top country where avocados in the United Kingdom come from.\n",
    "\n",
    "The golden rule of programming when performing repetitive tasks such as this one is Don't Repeat Yourself (DRY). Turn the code you created to analyze the avocado data and determine its top country of origin into a general function that can be used to do the same with each of the other ingredients. You should also add new steps in it to handle ties, which wasn't necessary for the avocado data.\n",
    "\n",
    "Just as you did with the avocado data, create the variables top_olive_oil_origin, and top_sourdough_origin, using the relevant category data and analyzing country origin data. To determine these last two origin variables, you'll call the function you've created."
   ]
  },
  {
   "cell_type": "code",
   "execution_count": 177,
   "metadata": {},
   "outputs": [],
   "source": [
    "import pandas as pd\n",
    "relevant_avocado_categories = pd.read_csv(\"../data/relevant_avocado_categories.txt\")\n",
    "relevant_olive_oil_categories = pd.read_csv(\"../data/relevant_olive_oil_categories.txt\")\n",
    "relevant_sourdough_categories = pd.read_csv(\"../data/relevant_sourdough_categories.txt\")\n",
    "avocado = pd.read_csv(\"../data/avocado.csv\", sep='\\t')\n",
    "olive_oil = pd.read_csv(\"../data/olive_oil.csv\", sep='\\t', low_memory=False)\n",
    "sourdough = pd.read_csv(\"../data/sourdough.csv\", sep='\\t')"
   ]
  },
  {
   "cell_type": "code",
   "execution_count": null,
   "metadata": {},
   "outputs": [],
   "source": [
    "# Extract relevant tags\n",
    "relevant_tags = relevant_avocado_categories[\"en:avocadoes\"].tolist()  # Correct method is 'tolist()'\n",
    "\n",
    "# Subset to get only the necessary columns\n",
    "avocado_subset = avocado[['lc', 'product_name_en', 'quantity', 'serving_size', 'packaging_tags',\n",
    "                          'brands', 'brands_tags', 'categories_tags', 'labels_tags', 'countries',\n",
    "                          'countries_tags', 'origins', 'origins_tags']]\n",
    "\n",
    "# Drop rows with NA values in 'categories_tags'\n",
    "avocado_subset_cleaned = avocado_subset.dropna(subset=[\"categories_tags\"])\n",
    "\n",
    "# Split 'categories_tags' into a list\n",
    "avocado_subset_cleaned.loc[:, 'categories_tags'] = avocado_subset_cleaned['categories_tags'].str.split(',')\n",
    "\n",
    "# Expand the lists into separate rows\n",
    "avocado_subset_cleaned_exploded = avocado_subset_cleaned.explode('categories_tags')\n",
    "\n",
    "# Filter based on relevant tags\n",
    "filtered_avocado_subset = avocado_subset_cleaned_exploded[avocado_subset_cleaned_exploded[\"categories_tags\"].isin(relevant_tags)]\n",
    "\n",
    "# Drop rows with NA values in 'origins_tags'\n",
    "avocado_cleaned_origin = filtered_avocado_subset.dropna(subset=[\"origins_tags\"])\n",
    "\n",
    "# Group by 'origins_tags' and count occurrences\n",
    "avocado_origin_grouped = avocado_cleaned_origin.groupby('origins_tags').size().reset_index(name='count')\n",
    "\n",
    "# Sort and get the top 1 origin\n",
    "top_origin = avocado_origin_grouped.sort_values(by=\"count\", ascending=False).head(1)\n",
    "\n",
    "print(top_origin)"
   ]
  },
  {
   "cell_type": "code",
   "execution_count": 163,
   "metadata": {},
   "outputs": [],
   "source": [
    "relevant_tags = relevant_avocado_categories[\"en:avocadoes\"].to_list()"
   ]
  },
  {
   "cell_type": "code",
   "execution_count": 77,
   "metadata": {},
   "outputs": [],
   "source": [
    "# subset to get only column needed\n",
    "avocado_subset = avocado[['lc', 'product_name_en', 'quantity', 'serving_size', 'packaging_tags', 'brands', 'brands_tags', 'categories_tags', 'labels_tags', 'countries', 'countries_tags', 'origins', 'origins_tags']]"
   ]
  },
  {
   "cell_type": "code",
   "execution_count": 78,
   "metadata": {},
   "outputs": [],
   "source": [
    "# drop NA categories tags values\n",
    "avocado_subset_cleaned = avocado_subset.dropna(subset=[\"categories_tags\"])"
   ]
  },
  {
   "cell_type": "code",
   "execution_count": 79,
   "metadata": {},
   "outputs": [],
   "source": [
    "avocado_subset_cleaned.loc[:, 'categories_tags'] = avocado_subset_cleaned['categories_tags'].str.split(',')"
   ]
  },
  {
   "cell_type": "code",
   "execution_count": null,
   "metadata": {},
   "outputs": [],
   "source": [
    "avocado_subset_cleaned_exploded = avocado_subset_cleaned.explode('categories_tags')"
   ]
  },
  {
   "cell_type": "code",
   "execution_count": 85,
   "metadata": {},
   "outputs": [],
   "source": [
    "avocado_cleaned_origin = filtered_avocado_subset.dropna(subset=[\"origins_tags\"])"
   ]
  },
  {
   "cell_type": "code",
   "execution_count": 101,
   "metadata": {},
   "outputs": [],
   "source": [
    "avocado_origin_grouped = avocado_cleaned_origin.groupby('origins_tags').size().reset_index(name='count')"
   ]
  },
  {
   "cell_type": "code",
   "execution_count": 103,
   "metadata": {},
   "outputs": [],
   "source": [
    "top_origin = avocado_origin_grouped.sort_values(by=\"count\", ascending=False).head(1)"
   ]
  },
  {
   "cell_type": "code",
   "execution_count": 178,
   "metadata": {},
   "outputs": [],
   "source": [
    "import pandas as pd\n",
    "\n",
    "def top_origin(data: pd.DataFrame, relevant_tags: pd.DataFrame, tag_column: str, origin_column: str) -> pd.DataFrame:\n",
    "    \"\"\"\n",
    "    Filter a DataFrame based on relevant tags and find the top origin.\n",
    "\n",
    "    Args:\n",
    "        data (pd.DataFrame): The main DataFrame containing product information.\n",
    "        relevant_tags (pd.DataFrame): The DataFrame containing relevant tags to filter by.\n",
    "        tag_column (str): The name of the column containing tags in the main DataFrame.\n",
    "        origin_column (str): The name of the column containing origin information in the main DataFrame.\n",
    "\n",
    "    Returns:\n",
    "        pd.DataFrame: DataFrame containing the most common origin.\n",
    "    \"\"\"\n",
    "\n",
    "    # Extract relevant tags\n",
    "    tags_list = relevant_tags.iloc[:, 0].tolist()\n",
    "\n",
    "    # Drop rows with NA values in the tag_column\n",
    "    data_cleaned = data.dropna(subset=[tag_column])\n",
    "\n",
    "    # Convert the tag_column to lists\n",
    "    data_cleaned.loc[:, tag_column] = data_cleaned[tag_column].str.split(',')\n",
    "\n",
    "    # Expand lists into separate rows\n",
    "    data_exploded = data_cleaned.explode(tag_column)\n",
    "\n",
    "    # Filter the DataFrame for relevant tags\n",
    "    filtered_data = data_exploded[data_exploded[tag_column].isin(tags_list)]\n",
    "\n",
    "    # Drop rows with NA values in the origin_column\n",
    "    data_cleaned_origin = filtered_data.dropna(subset=[origin_column])\n",
    "\n",
    "    # Group by origin_column and count occurrences\n",
    "    origin_grouped = data_cleaned_origin.groupby(origin_column).size().reset_index(name='count')\n",
    "\n",
    "    # Sort by count in descending order and get the top 1 origin\n",
    "    top_origin = origin_grouped.sort_values(by=\"count\", ascending=False).head(1)\n",
    "\n",
    "\n",
    "    return top_origin\n"
   ]
  },
  {
   "cell_type": "code",
   "execution_count": 179,
   "metadata": {},
   "outputs": [],
   "source": [
    "top_avocado_origin = top_origin(avocado, relevant_avocado_categories, \"categories_tags\", \"origins_tags\")\n",
    "top_olive_oil_origin = top_origin(olive_oil, relevant_olive_oil_categories, \"categories_tags\", \"origins_tags\")\n",
    "top_sourdough_origin = top_origin(sourdough, relevant_sourdough_categories, \"categories_tags\", \"origins_tags\")"
   ]
  },
  {
   "cell_type": "code",
   "execution_count": 180,
   "metadata": {},
   "outputs": [
    {
     "name": "stdout",
     "output_type": "stream",
     "text": [
      "   origins_tags  count\n",
      "14      en:peru     35    origins_tags  count\n",
      "39     en:spain    223    origins_tags  count\n",
      "3  en:australia      7\n"
     ]
    }
   ],
   "source": [
    "print(top_avocado_origin, top_olive_oil_origin, top_sourdough_origin)"
   ]
  }
 ],
 "metadata": {
  "kernelspec": {
   "display_name": "base",
   "language": "python",
   "name": "python3"
  },
  "language_info": {
   "codemirror_mode": {
    "name": "ipython",
    "version": 3
   },
   "file_extension": ".py",
   "mimetype": "text/x-python",
   "name": "python",
   "nbconvert_exporter": "python",
   "pygments_lexer": "ipython3",
   "version": "3.11.7"
  }
 },
 "nbformat": 4,
 "nbformat_minor": 2
}
