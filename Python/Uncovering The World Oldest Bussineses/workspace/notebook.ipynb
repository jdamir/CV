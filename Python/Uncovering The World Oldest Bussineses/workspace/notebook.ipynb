{
 "cells": [
  {
   "cell_type": "markdown",
   "metadata": {},
   "source": [
    "![Alternative text in case your image doesn’t appear](filename.jpg)"
   ]
  },
  {
   "cell_type": "markdown",
   "metadata": {},
   "source": [
    "Staffelter Hof Winery is Germany's oldest business, established in 862 under the Carolingian dynasty. It has continued to serve customers through dramatic changes in Europe, such as the Holy Roman Empire, the Ottoman Empire, and both world wars. What characteristics enable a business to stand the test of time?\n",
    "\n",
    "To help answer this question, BusinessFinancing.co.uk researched the oldest company still in business in almost every country and compiled the results into several CSV files. This dataset has been cleaned.\n",
    "\n",
    "Having useful information in different files is a common problem. While it's better to keep different types of data separate for data storage, you'll want all the data in one place for analysis. You'll use joining and data manipulation to work with this data and better understand the world's oldest businesses.\n",
    "\n",
    "\n",
    "## The Data\n",
    "`data/businesses.csv` and `data/new_businesses.csv`\n",
    "|Column|Description|\n",
    "|------|-----------|\n",
    "|`business`|Name of the business (varchar)|\n",
    "|`year_founded`|Year the business was founded (int)|\n",
    "|`category_code`|Code for the business category (varchar)|\n",
    "|`country_code`|ISO 3166-1 three-letter country code (char)|\n",
    "\n",
    "`data/countries.csv`\n",
    "|Column|Description|\n",
    "|------|-----------|\n",
    "|`country_code`|ISO 3166-1 three-letter country code (varchar)|\n",
    "|`country`|Name of the country (varchar)|\n",
    "|`continent`|Name of the continent the country exists in (varchar)|\n",
    "\n",
    "`data/categories.csv`\n",
    "|Column|Description|\n",
    "|------|-----------|\n",
    "|`category_code`|Code for the business category (varchar)|\n",
    "|`category`|Description of the business category (varchar)|"
   ]
  },
  {
   "cell_type": "markdown",
   "metadata": {},
   "source": [
    "Understand the factors that help a business be timeless by answering these questions:\n",
    "\n",
    "What is the oldest business on each continent? Save your answer as a DataFrame called oldest_business_continent with four columns: continent, country, business, and year_founded in any order.\n",
    "\n",
    "How many countries per continent lack data on the oldest businesses? Does including new_businesses change this? Count the number of countries per continent missing business data, including new_businesses, and store the results in a DataFrame named count_missing with columns for the continent and the count.\n",
    "\n",
    "Which business categories are best suited to last many years, and on what continent are they? Create a DataFrame called oldest_by_continent_category that stores the oldest founding year for each continent and category combination. It should contain three columns: continent, category, and year_founded, in that order."
   ]
  },
  {
   "cell_type": "code",
   "execution_count": 1,
   "metadata": {},
   "outputs": [],
   "source": [
    "# Import necessary libraries\n",
    "import pandas as pd\n",
    "\n",
    "# Load the data\n",
    "businesses = pd.read_csv(\"../data/businesses.csv\")\n",
    "new_businesses = pd.read_csv(\"../data/new_businesses.csv\")\n",
    "countries = pd.read_csv(\"../data/countries.csv\")\n",
    "categories = pd.read_csv(\"../data/categories.csv\")"
   ]
  },
  {
   "cell_type": "code",
   "execution_count": 40,
   "metadata": {},
   "outputs": [
    {
     "data": {
      "text/html": [
       "<div>\n",
       "<style scoped>\n",
       "    .dataframe tbody tr th:only-of-type {\n",
       "        vertical-align: middle;\n",
       "    }\n",
       "\n",
       "    .dataframe tbody tr th {\n",
       "        vertical-align: top;\n",
       "    }\n",
       "\n",
       "    .dataframe thead th {\n",
       "        text-align: right;\n",
       "    }\n",
       "</style>\n",
       "<table border=\"1\" class=\"dataframe\">\n",
       "  <thead>\n",
       "    <tr style=\"text-align: right;\">\n",
       "      <th></th>\n",
       "      <th>business</th>\n",
       "      <th>year_founded</th>\n",
       "      <th>category_code</th>\n",
       "      <th>country_code</th>\n",
       "    </tr>\n",
       "  </thead>\n",
       "  <tbody>\n",
       "    <tr>\n",
       "      <th>0</th>\n",
       "      <td>Hamoud Boualem</td>\n",
       "      <td>1878</td>\n",
       "      <td>CAT11</td>\n",
       "      <td>DZA</td>\n",
       "    </tr>\n",
       "    <tr>\n",
       "      <th>1</th>\n",
       "      <td>Communauté Électrique du Bénin</td>\n",
       "      <td>1968</td>\n",
       "      <td>CAT10</td>\n",
       "      <td>BEN</td>\n",
       "    </tr>\n",
       "    <tr>\n",
       "      <th>2</th>\n",
       "      <td>Botswana Meat Commission</td>\n",
       "      <td>1965</td>\n",
       "      <td>CAT1</td>\n",
       "      <td>BWA</td>\n",
       "    </tr>\n",
       "    <tr>\n",
       "      <th>3</th>\n",
       "      <td>Air Burkina</td>\n",
       "      <td>1967</td>\n",
       "      <td>CAT2</td>\n",
       "      <td>BFA</td>\n",
       "    </tr>\n",
       "    <tr>\n",
       "      <th>4</th>\n",
       "      <td>Brarudi</td>\n",
       "      <td>1955</td>\n",
       "      <td>CAT9</td>\n",
       "      <td>BDI</td>\n",
       "    </tr>\n",
       "  </tbody>\n",
       "</table>\n",
       "</div>"
      ],
      "text/plain": [
       "                         business  year_founded category_code country_code\n",
       "0                  Hamoud Boualem          1878         CAT11          DZA\n",
       "1  Communauté Électrique du Bénin          1968         CAT10          BEN\n",
       "2        Botswana Meat Commission          1965          CAT1          BWA\n",
       "3                     Air Burkina          1967          CAT2          BFA\n",
       "4                         Brarudi          1955          CAT9          BDI"
      ]
     },
     "execution_count": 40,
     "metadata": {},
     "output_type": "execute_result"
    }
   ],
   "source": [
    "businesses.head(5)"
   ]
  },
  {
   "cell_type": "code",
   "execution_count": 41,
   "metadata": {},
   "outputs": [
    {
     "data": {
      "text/html": [
       "<div>\n",
       "<style scoped>\n",
       "    .dataframe tbody tr th:only-of-type {\n",
       "        vertical-align: middle;\n",
       "    }\n",
       "\n",
       "    .dataframe tbody tr th {\n",
       "        vertical-align: top;\n",
       "    }\n",
       "\n",
       "    .dataframe thead th {\n",
       "        text-align: right;\n",
       "    }\n",
       "</style>\n",
       "<table border=\"1\" class=\"dataframe\">\n",
       "  <thead>\n",
       "    <tr style=\"text-align: right;\">\n",
       "      <th></th>\n",
       "      <th>category_code</th>\n",
       "      <th>category</th>\n",
       "    </tr>\n",
       "  </thead>\n",
       "  <tbody>\n",
       "    <tr>\n",
       "      <th>0</th>\n",
       "      <td>CAT1</td>\n",
       "      <td>Agriculture</td>\n",
       "    </tr>\n",
       "    <tr>\n",
       "      <th>1</th>\n",
       "      <td>CAT2</td>\n",
       "      <td>Aviation &amp; Transport</td>\n",
       "    </tr>\n",
       "    <tr>\n",
       "      <th>2</th>\n",
       "      <td>CAT3</td>\n",
       "      <td>Banking &amp; Finance</td>\n",
       "    </tr>\n",
       "    <tr>\n",
       "      <th>3</th>\n",
       "      <td>CAT4</td>\n",
       "      <td>Cafés, Restaurants &amp; Bars</td>\n",
       "    </tr>\n",
       "    <tr>\n",
       "      <th>4</th>\n",
       "      <td>CAT5</td>\n",
       "      <td>Conglomerate</td>\n",
       "    </tr>\n",
       "  </tbody>\n",
       "</table>\n",
       "</div>"
      ],
      "text/plain": [
       "  category_code                   category\n",
       "0          CAT1                Agriculture\n",
       "1          CAT2       Aviation & Transport\n",
       "2          CAT3          Banking & Finance\n",
       "3          CAT4  Cafés, Restaurants & Bars\n",
       "4          CAT5               Conglomerate"
      ]
     },
     "execution_count": 41,
     "metadata": {},
     "output_type": "execute_result"
    }
   ],
   "source": [
    "categories.head(5)"
   ]
  },
  {
   "cell_type": "code",
   "execution_count": 42,
   "metadata": {},
   "outputs": [
    {
     "data": {
      "text/html": [
       "<div>\n",
       "<style scoped>\n",
       "    .dataframe tbody tr th:only-of-type {\n",
       "        vertical-align: middle;\n",
       "    }\n",
       "\n",
       "    .dataframe tbody tr th {\n",
       "        vertical-align: top;\n",
       "    }\n",
       "\n",
       "    .dataframe thead th {\n",
       "        text-align: right;\n",
       "    }\n",
       "</style>\n",
       "<table border=\"1\" class=\"dataframe\">\n",
       "  <thead>\n",
       "    <tr style=\"text-align: right;\">\n",
       "      <th></th>\n",
       "      <th>country_code</th>\n",
       "      <th>country</th>\n",
       "      <th>continent</th>\n",
       "    </tr>\n",
       "  </thead>\n",
       "  <tbody>\n",
       "    <tr>\n",
       "      <th>0</th>\n",
       "      <td>AFG</td>\n",
       "      <td>Afghanistan</td>\n",
       "      <td>Asia</td>\n",
       "    </tr>\n",
       "    <tr>\n",
       "      <th>1</th>\n",
       "      <td>AGO</td>\n",
       "      <td>Angola</td>\n",
       "      <td>Africa</td>\n",
       "    </tr>\n",
       "    <tr>\n",
       "      <th>2</th>\n",
       "      <td>ALB</td>\n",
       "      <td>Albania</td>\n",
       "      <td>Europe</td>\n",
       "    </tr>\n",
       "    <tr>\n",
       "      <th>3</th>\n",
       "      <td>AND</td>\n",
       "      <td>Andorra</td>\n",
       "      <td>Europe</td>\n",
       "    </tr>\n",
       "    <tr>\n",
       "      <th>4</th>\n",
       "      <td>ARE</td>\n",
       "      <td>United Arab Emirates</td>\n",
       "      <td>Asia</td>\n",
       "    </tr>\n",
       "  </tbody>\n",
       "</table>\n",
       "</div>"
      ],
      "text/plain": [
       "  country_code               country continent\n",
       "0          AFG           Afghanistan      Asia\n",
       "1          AGO                Angola    Africa\n",
       "2          ALB               Albania    Europe\n",
       "3          AND               Andorra    Europe\n",
       "4          ARE  United Arab Emirates      Asia"
      ]
     },
     "execution_count": 42,
     "metadata": {},
     "output_type": "execute_result"
    }
   ],
   "source": [
    "countries.head(5)"
   ]
  },
  {
   "cell_type": "code",
   "execution_count": 2,
   "metadata": {},
   "outputs": [],
   "source": [
    "businesses_countries = businesses.merge(countries, on=\"country_code\")"
   ]
  },
  {
   "cell_type": "code",
   "execution_count": 3,
   "metadata": {},
   "outputs": [
    {
     "data": {
      "text/html": [
       "<div>\n",
       "<style scoped>\n",
       "    .dataframe tbody tr th:only-of-type {\n",
       "        vertical-align: middle;\n",
       "    }\n",
       "\n",
       "    .dataframe tbody tr th {\n",
       "        vertical-align: top;\n",
       "    }\n",
       "\n",
       "    .dataframe thead th {\n",
       "        text-align: right;\n",
       "    }\n",
       "</style>\n",
       "<table border=\"1\" class=\"dataframe\">\n",
       "  <thead>\n",
       "    <tr style=\"text-align: right;\">\n",
       "      <th></th>\n",
       "      <th>business</th>\n",
       "      <th>year_founded</th>\n",
       "      <th>category_code</th>\n",
       "      <th>country_code</th>\n",
       "      <th>country</th>\n",
       "      <th>continent</th>\n",
       "    </tr>\n",
       "  </thead>\n",
       "  <tbody>\n",
       "    <tr>\n",
       "      <th>0</th>\n",
       "      <td>Hamoud Boualem</td>\n",
       "      <td>1878</td>\n",
       "      <td>CAT11</td>\n",
       "      <td>DZA</td>\n",
       "      <td>Algeria</td>\n",
       "      <td>Africa</td>\n",
       "    </tr>\n",
       "    <tr>\n",
       "      <th>1</th>\n",
       "      <td>Communauté Électrique du Bénin</td>\n",
       "      <td>1968</td>\n",
       "      <td>CAT10</td>\n",
       "      <td>BEN</td>\n",
       "      <td>Benin</td>\n",
       "      <td>Africa</td>\n",
       "    </tr>\n",
       "    <tr>\n",
       "      <th>2</th>\n",
       "      <td>Botswana Meat Commission</td>\n",
       "      <td>1965</td>\n",
       "      <td>CAT1</td>\n",
       "      <td>BWA</td>\n",
       "      <td>Botswana</td>\n",
       "      <td>Africa</td>\n",
       "    </tr>\n",
       "    <tr>\n",
       "      <th>3</th>\n",
       "      <td>Air Burkina</td>\n",
       "      <td>1967</td>\n",
       "      <td>CAT2</td>\n",
       "      <td>BFA</td>\n",
       "      <td>Burkina Faso</td>\n",
       "      <td>Africa</td>\n",
       "    </tr>\n",
       "    <tr>\n",
       "      <th>4</th>\n",
       "      <td>Brarudi</td>\n",
       "      <td>1955</td>\n",
       "      <td>CAT9</td>\n",
       "      <td>BDI</td>\n",
       "      <td>Burundi</td>\n",
       "      <td>Africa</td>\n",
       "    </tr>\n",
       "    <tr>\n",
       "      <th>5</th>\n",
       "      <td>Cameroon Development Corporation</td>\n",
       "      <td>1947</td>\n",
       "      <td>CAT1</td>\n",
       "      <td>CMR</td>\n",
       "      <td>Cameroon</td>\n",
       "      <td>Africa</td>\n",
       "    </tr>\n",
       "    <tr>\n",
       "      <th>6</th>\n",
       "      <td>Correios de Cabo Verde</td>\n",
       "      <td>1849</td>\n",
       "      <td>CAT16</td>\n",
       "      <td>CPV</td>\n",
       "      <td>Cabo Verde</td>\n",
       "      <td>Africa</td>\n",
       "    </tr>\n",
       "  </tbody>\n",
       "</table>\n",
       "</div>"
      ],
      "text/plain": [
       "                           business  year_founded category_code country_code  \\\n",
       "0                    Hamoud Boualem          1878         CAT11          DZA   \n",
       "1    Communauté Électrique du Bénin          1968         CAT10          BEN   \n",
       "2          Botswana Meat Commission          1965          CAT1          BWA   \n",
       "3                       Air Burkina          1967          CAT2          BFA   \n",
       "4                           Brarudi          1955          CAT9          BDI   \n",
       "5  Cameroon Development Corporation          1947          CAT1          CMR   \n",
       "6            Correios de Cabo Verde          1849         CAT16          CPV   \n",
       "\n",
       "        country continent  \n",
       "0       Algeria    Africa  \n",
       "1         Benin    Africa  \n",
       "2      Botswana    Africa  \n",
       "3  Burkina Faso    Africa  \n",
       "4       Burundi    Africa  \n",
       "5      Cameroon    Africa  \n",
       "6    Cabo Verde    Africa  "
      ]
     },
     "execution_count": 3,
     "metadata": {},
     "output_type": "execute_result"
    }
   ],
   "source": [
    "businesses_countries.head(7)"
   ]
  },
  {
   "cell_type": "code",
   "execution_count": null,
   "metadata": {},
   "outputs": [],
   "source": [
    "#businesses_countries =businesses_countries.drop(columns = [\"category_code\", 'country_code'], axis=1)"
   ]
  },
  {
   "cell_type": "code",
   "execution_count": 4,
   "metadata": {},
   "outputs": [],
   "source": [
    "min_years = businesses_countries.groupby('continent', as_index=False)['year_founded'].min()\n"
   ]
  },
  {
   "cell_type": "code",
   "execution_count": 5,
   "metadata": {},
   "outputs": [],
   "source": [
    "result = pd.merge(businesses_countries, min_years, on='continent', suffixes=('', '_min'))"
   ]
  },
  {
   "cell_type": "code",
   "execution_count": 15,
   "metadata": {},
   "outputs": [
    {
     "name": "stdout",
     "output_type": "stream",
     "text": [
      "                        business  year_founded    country      continent\n",
      "29                Mauritius Post          1772  Mauritius         Africa\n",
      "64                    Kongō Gumi           578      Japan           Asia\n",
      "95   St. Peter Stifts Kulinarium           803    Austria         Europe\n",
      "145  La Casa de Moneda de México          1534     Mexico  North America\n",
      "157      Casa Nacional de Moneda          1565       Peru  South America\n",
      "160               Australia Post          1809  Australia        Oceania\n"
     ]
    }
   ],
   "source": [
    "filtered_result = result[result['year_founded'] == result['year_founded_min']].copy()\n",
    "filtered_result.drop(columns='year_founded_min', inplace=True)\n",
    "count_missing = filtered_result.drop(columns = [\"category_code\", 'country_code'], axis=1)\n",
    "print(count_missing)"
   ]
  },
  {
   "cell_type": "code",
   "execution_count": 68,
   "metadata": {},
   "outputs": [],
   "source": [
    "bc = countries.merge(businesses, how=\"left\", on=\"country_code\", suffixes=(\"_biz\", \"_country\"))"
   ]
  },
  {
   "cell_type": "code",
   "execution_count": 70,
   "metadata": {},
   "outputs": [],
   "source": [
    "number_of_missing = bc['business'].isnull().sum()"
   ]
  },
  {
   "cell_type": "code",
   "execution_count": 71,
   "metadata": {},
   "outputs": [
    {
     "data": {
      "text/plain": [
       "32"
      ]
     },
     "execution_count": 71,
     "metadata": {},
     "output_type": "execute_result"
    }
   ],
   "source": [
    "number_of_missing"
   ]
  },
  {
   "cell_type": "code",
   "execution_count": 12,
   "metadata": {},
   "outputs": [],
   "source": [
    "bc2 = filtered_result.merge(categories, on=\"category_code\")"
   ]
  },
  {
   "cell_type": "code",
   "execution_count": 13,
   "metadata": {},
   "outputs": [],
   "source": [
    "bc2 = bc2.drop(columns = [\"business\", \"category_code\", 'country_code', \"country\"], axis=1)"
   ]
  },
  {
   "cell_type": "code",
   "execution_count": 14,
   "metadata": {},
   "outputs": [
    {
     "data": {
      "text/html": [
       "<div>\n",
       "<style scoped>\n",
       "    .dataframe tbody tr th:only-of-type {\n",
       "        vertical-align: middle;\n",
       "    }\n",
       "\n",
       "    .dataframe tbody tr th {\n",
       "        vertical-align: top;\n",
       "    }\n",
       "\n",
       "    .dataframe thead th {\n",
       "        text-align: right;\n",
       "    }\n",
       "</style>\n",
       "<table border=\"1\" class=\"dataframe\">\n",
       "  <thead>\n",
       "    <tr style=\"text-align: right;\">\n",
       "      <th></th>\n",
       "      <th>year_founded</th>\n",
       "      <th>continent</th>\n",
       "      <th>category</th>\n",
       "    </tr>\n",
       "  </thead>\n",
       "  <tbody>\n",
       "    <tr>\n",
       "      <th>0</th>\n",
       "      <td>1772</td>\n",
       "      <td>Africa</td>\n",
       "      <td>Postal Service</td>\n",
       "    </tr>\n",
       "    <tr>\n",
       "      <th>1</th>\n",
       "      <td>1809</td>\n",
       "      <td>Oceania</td>\n",
       "      <td>Postal Service</td>\n",
       "    </tr>\n",
       "    <tr>\n",
       "      <th>2</th>\n",
       "      <td>578</td>\n",
       "      <td>Asia</td>\n",
       "      <td>Construction</td>\n",
       "    </tr>\n",
       "    <tr>\n",
       "      <th>3</th>\n",
       "      <td>803</td>\n",
       "      <td>Europe</td>\n",
       "      <td>Cafés, Restaurants &amp; Bars</td>\n",
       "    </tr>\n",
       "    <tr>\n",
       "      <th>4</th>\n",
       "      <td>1534</td>\n",
       "      <td>North America</td>\n",
       "      <td>Manufacturing &amp; Production</td>\n",
       "    </tr>\n",
       "  </tbody>\n",
       "</table>\n",
       "</div>"
      ],
      "text/plain": [
       "   year_founded      continent                    category\n",
       "0          1772         Africa              Postal Service\n",
       "1          1809        Oceania              Postal Service\n",
       "2           578           Asia                Construction\n",
       "3           803         Europe   Cafés, Restaurants & Bars\n",
       "4          1534  North America  Manufacturing & Production"
      ]
     },
     "execution_count": 14,
     "metadata": {},
     "output_type": "execute_result"
    }
   ],
   "source": [
    "bc2.head()"
   ]
  }
 ],
 "metadata": {
  "kernelspec": {
   "display_name": "base",
   "language": "python",
   "name": "python3"
  },
  "language_info": {
   "codemirror_mode": {
    "name": "ipython",
    "version": 3
   },
   "file_extension": ".py",
   "mimetype": "text/x-python",
   "name": "python",
   "nbconvert_exporter": "python",
   "pygments_lexer": "ipython3",
   "version": "3.11.7"
  }
 },
 "nbformat": 4,
 "nbformat_minor": 2
}
