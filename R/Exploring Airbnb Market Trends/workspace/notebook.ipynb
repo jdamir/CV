{
 "cells": [
  {
   "cell_type": "code",
   "execution_count": null,
   "metadata": {
    "vscode": {
     "languageId": "r"
    }
   },
   "outputs": [
    {
     "ename": "ERROR",
     "evalue": "Error in library(readr): there is no package called 'readr'\n",
     "output_type": "error",
     "traceback": [
      "Error in library(readr): there is no package called 'readr'\nTraceback:\n",
      "1. library(readr)"
     ]
    }
   ],
   "source": [
    "# Load necessary libraries\n",
    "library(readr)\n",
    "library(readxl)\n",
    "library(stringr)\n",
    "library(tidyr)\n",
    "library(lubridate)\n",
    "library(tibble)"
   ]
  },
  {
   "cell_type": "code",
   "execution_count": null,
   "metadata": {
    "vscode": {
     "languageId": "r"
    }
   },
   "outputs": [],
   "source": [
    "airbnb_price <- read.csv(\"data/airbnb_price.csv\")\n",
    "airbnb_room_type <- lapply(excel_sheets(\"data/airbnb_room_type.xlsx\"), read_excel, path = \"data/airbnb_room_type.xlsx\") # nolint\n",
    "airbnb_last_review <- read_tsv(\"data/airbnb_last_review.tsv\", show_col_types = FALSE) # nolint"
   ]
  },
  {
   "cell_type": "code",
   "execution_count": null,
   "metadata": {
    "vscode": {
     "languageId": "r"
    }
   },
   "outputs": [],
   "source": [
    "# Separate the 'price' column into 'number' and 'currency'\n",
    "airbnb_price <- airbnb_price %>%\n",
    "  separate(price, into = c(\"number\", \"currency\"), sep = \" \")\n",
    "# Convert 'number' to a numeric vector\n",
    "numeric_vector <- as.numeric(airbnb_price$number)\n",
    "# Calculate the average price and round to 1 decimal place\n",
    "avg_price <- round(mean(numeric_vector, na.rm = TRUE), 2)\n",
    "# Print the average price\n",
    "print(avg_price)"
   ]
  },
  {
   "cell_type": "code",
   "execution_count": null,
   "metadata": {
    "vscode": {
     "languageId": "r"
    }
   },
   "outputs": [],
   "source": [
    "airbnb_room_type <- as.data.frame(airbnb_room_type)\n",
    "# Count occurrences of \"Private\" and \"private\" (case insensitive)\n",
    "#nb_private_rooms <- sum(str_count(tolower(airbnb_room_type$room_type), pattern = \"private \")) # nolint\n",
    "airbnb_room_type <- airbnb_room_type %>% \n",
    "\t mutate(room_type = tolower(room_type)) # nolint\n",
    "\n",
    "nb_private_rooms <- sum(str_detect(airbnb_room_type$room_type, \"private\"))"
   ]
  },
  {
   "cell_type": "code",
   "execution_count": null,
   "metadata": {
    "vscode": {
     "languageId": "r"
    }
   },
   "outputs": [],
   "source": [
    "last_reviewed <- airbnb_last_review %>% \n",
    "  mutate(last_review = parse_date_time(last_review, orders = \"mdy\")) %>%  # Corrected 'order' to 'orders' # nolint\n",
    "  slice_max(last_review, n = 1, with_ties = FALSE) %>% \n",
    "  select(last_review)"
   ]
  },
  {
   "cell_type": "code",
   "execution_count": null,
   "metadata": {
    "vscode": {
     "languageId": "r"
    }
   },
   "outputs": [],
   "source": [
    "first_reviewed <- airbnb_last_review %>% \n",
    "  mutate(first_review = parse_date_time(last_review, orders = \"mdy\")) %>%\n",
    "  slice_min(first_review, n = 1, with_ties = FALSE) %>%\n",
    "  select(first_review)"
   ]
  },
  {
   "cell_type": "code",
   "execution_count": null,
   "metadata": {
    "vscode": {
     "languageId": "r"
    }
   },
   "outputs": [],
   "source": [
    "review_dates <- tibble(\n",
    "  nb_private_rooms = nb_private_rooms,\n",
    "  last_reviewed = last_reviewed$last_review,\n",
    "  first_reviewed = first_reviewed$first_review,\n",
    "  avg_price = avg_price\n",
    ")\n",
    "\n",
    "print(review_dates)"
   ]
  }
 ],
 "metadata": {
  "kernelspec": {
   "display_name": "R",
   "language": "R",
   "name": "ir"
  },
  "language_info": {
   "codemirror_mode": "r",
   "file_extension": ".r",
   "mimetype": "text/x-r-source",
   "name": "R",
   "pygments_lexer": "r",
   "version": "3.6.1"
  }
 },
 "nbformat": 4,
 "nbformat_minor": 2
}
