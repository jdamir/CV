{
 "cells": [
  {
   "cell_type": "markdown",
   "id": "df167b1d-e2a5-44ad-9e1d-dc0bba2428b5",
   "metadata": {},
   "source": [
    "![life](life.jpg)\n",
    "\n",
    "You are a data analyst for a United Nations initiative focused on understanding global health trends. Your latest assignment is to explore and visualize life expectancy data from around the world, focusing on gender differences. \n",
    "\n",
    "Life expectancy can vary significantly over time and across different countries due to numerous factors, including advancements in medicine, a country's development level, and the impacts of conflicts. Interestingly, data consistently shows that women tend to live longer than men, raising intriguing questions. Could this be due to biological factors or perhaps because women generally care for their health better?\n",
    "\n",
    "Your task is to explore these patterns and disparities. \n",
    "\n",
    "### The Data\n",
    "\n",
    "The dataset contains information about life expectancy in various countries or areas, broken down by gender and time periods. The data is sourced from the _United Nations Population Division, Gender Statistics, Life Expectancy at Birth_.\n",
    "\n",
    "#### UNdata.csv\n",
    "\n",
    "| Column            | Meaning                                                                                        |\n",
    "| ----------------- | ---------------------------------------------------------------------------------------------- |\n",
    "| `Country.or.Area` | The name of the country or region being described.                                              |\n",
    "| `Subgroup`        | The specific subgroup within the country or area (e.g., Female, Male).                          |\n",
    "| `Year`            | The time period for the data provided (e.g., 2000-2005).                                        |\n",
    "| `Source`          | The source of the data, specifying the UN publication or report where the data originated.      |\n",
    "| `Unit`            | The unit of measurement for life expectancy.                  |\n",
    "| `Value`           | The measured value for the life expectancy in the specified country, subgroup, and time period. |\n",
    "| `Value.Footnotes` | Additional notes or comments related to the value, if any.                                      |\n"
   ]
  },
  {
   "cell_type": "code",
   "execution_count": 19,
   "id": "bf55d988-22d4-4f7a-a6b9-073809760776",
   "metadata": {
    "executionCancelledAt": null,
    "executionTime": 2294,
    "lastExecutedAt": 1725376107202,
    "lastExecutedByKernel": "5e38aed1-e095-484f-bb9f-9d68ad89ee2b",
    "lastScheduledRunId": null,
    "lastSuccessfullyExecutedCode": "library(dplyr)\nlibrary(tidyr)\nlibrary(ggplot2)\n\nlife_expectancy=read.csv(\"datasets/UNdata.csv\")\nhead(life_expectancy)",
    "outputsMetadata": {
     "0": {
      "height": 311,
      "type": "stream"
     },
     "1": {
      "height": 266,
      "type": "dataFrame"
     },
     "2": {
      "height": 196,
      "type": "dataFrame"
     }
    },
    "vscode": {
     "languageId": "r"
    }
   },
   "outputs": [
    {
     "ename": "ERROR",
     "evalue": "Error in library(dplyr): there is no package called 'dplyr'\n",
     "output_type": "error",
     "traceback": [
      "Error in library(dplyr): there is no package called 'dplyr'\nTraceback:\n",
      "1. library(dplyr)"
     ]
    }
   ],
   "source": [
    "library(dplyr)\n",
    "library(tidyr)\n",
    "library(ggplot2)"
   ]
  },
  {
   "cell_type": "markdown",
   "id": "0354627c",
   "metadata": {},
   "source": [
    "Analyze and visualize global life expectancy data with a focus on gender disparities, using a United Nations dataset. As part of your analysis, answer the following key questions:\n",
    "\n",
    "Does the Value column contain any missing data?\n",
    "\n",
    "Save your answer as a boolean variable (TRUE or FALSE) named missing.\n",
    "\n",
    "How does life expectancy differ between men and women across countries overall, in the 2000-2005 period? \n",
    "Save your answer as a variable named subgroup with the value \"Female\" if female life expectancy is higher, and \"Male\" if male life expectancy is higher.\n",
    "\n",
    "Which countries exhibit the largest disparities in life expectancy between genders, in the 2000-2005 subgroup? \n",
    "Save the top 3 countries with the largest male-female disparities as a variable named disparities."
   ]
  },
  {
   "cell_type": "code",
   "execution_count": 13,
   "id": "71997b6d",
   "metadata": {
    "vscode": {
     "languageId": "r"
    }
   },
   "outputs": [],
   "source": [
    "life_expectancy = read.csv(\"datasets/UNdata.csv\") # nolint"
   ]
  },
  {
   "cell_type": "code",
   "execution_count": 14,
   "id": "6b9572fe",
   "metadata": {
    "vscode": {
     "languageId": "r"
    }
   },
   "outputs": [
    {
     "data": {
      "text/html": [
       "<table>\n",
       "<thead><tr><th scope=col>Country.or.Area</th><th scope=col>Subgroup</th><th scope=col>Year</th><th scope=col>Source</th><th scope=col>Unit</th><th scope=col>Value</th><th scope=col>Value.Footnotes</th></tr></thead>\n",
       "<tbody>\n",
       "\t<tr><td>Afghanistan                                                  </td><td>Female                                                       </td><td>2000-2005                                                    </td><td>UNPD_World Population Prospects_2006 (International estimate)</td><td>Years                                                        </td><td>42                                                           </td><td>                                                             </td></tr>\n",
       "\t<tr><td>Afghanistan                                                  </td><td>Female                                                       </td><td>1995-2000                                                    </td><td>UNPD_World Population Prospects_2006 (International estimate)</td><td>Years                                                        </td><td>42                                                           </td><td>                                                             </td></tr>\n",
       "\t<tr><td>Afghanistan                                                  </td><td>Female                                                       </td><td>1990-1995                                                    </td><td>UNPD_World Population Prospects_2006 (International estimate)</td><td>Years                                                        </td><td>42                                                           </td><td>                                                             </td></tr>\n",
       "\t<tr><td>Afghanistan                                                  </td><td>Female                                                       </td><td>1985-1990                                                    </td><td>UNPD_World Population Prospects_2006 (International estimate)</td><td>Years                                                        </td><td>41                                                           </td><td>                                                             </td></tr>\n",
       "\t<tr><td>Afghanistan                                                  </td><td>Male                                                         </td><td>2000-2005                                                    </td><td>UNPD_World Population Prospects_2006 (International estimate)</td><td>Years                                                        </td><td>42                                                           </td><td>                                                             </td></tr>\n",
       "\t<tr><td>Afghanistan                                                  </td><td>Male                                                         </td><td>1995-2000                                                    </td><td>UNPD_World Population Prospects_2006 (International estimate)</td><td>Years                                                        </td><td>42                                                           </td><td>                                                             </td></tr>\n",
       "</tbody>\n",
       "</table>\n"
      ],
      "text/latex": [
       "\\begin{tabular}{r|lllllll}\n",
       " Country.or.Area & Subgroup & Year & Source & Unit & Value & Value.Footnotes\\\\\n",
       "\\hline\n",
       "\t Afghanistan                                                       & Female                                                            & 2000-2005                                                         & UNPD\\_World Population Prospects\\_2006 (International estimate) & Years                                                             & 42                                                                &                                                                  \\\\\n",
       "\t Afghanistan                                                       & Female                                                            & 1995-2000                                                         & UNPD\\_World Population Prospects\\_2006 (International estimate) & Years                                                             & 42                                                                &                                                                  \\\\\n",
       "\t Afghanistan                                                       & Female                                                            & 1990-1995                                                         & UNPD\\_World Population Prospects\\_2006 (International estimate) & Years                                                             & 42                                                                &                                                                  \\\\\n",
       "\t Afghanistan                                                       & Female                                                            & 1985-1990                                                         & UNPD\\_World Population Prospects\\_2006 (International estimate) & Years                                                             & 41                                                                &                                                                  \\\\\n",
       "\t Afghanistan                                                       & Male                                                              & 2000-2005                                                         & UNPD\\_World Population Prospects\\_2006 (International estimate) & Years                                                             & 42                                                                &                                                                  \\\\\n",
       "\t Afghanistan                                                       & Male                                                              & 1995-2000                                                         & UNPD\\_World Population Prospects\\_2006 (International estimate) & Years                                                             & 42                                                                &                                                                  \\\\\n",
       "\\end{tabular}\n"
      ],
      "text/markdown": [
       "\n",
       "| Country.or.Area | Subgroup | Year | Source | Unit | Value | Value.Footnotes |\n",
       "|---|---|---|---|---|---|---|\n",
       "| Afghanistan                                                   | Female                                                        | 2000-2005                                                     | UNPD_World Population Prospects_2006 (International estimate) | Years                                                         | 42                                                            |                                                               |\n",
       "| Afghanistan                                                   | Female                                                        | 1995-2000                                                     | UNPD_World Population Prospects_2006 (International estimate) | Years                                                         | 42                                                            |                                                               |\n",
       "| Afghanistan                                                   | Female                                                        | 1990-1995                                                     | UNPD_World Population Prospects_2006 (International estimate) | Years                                                         | 42                                                            |                                                               |\n",
       "| Afghanistan                                                   | Female                                                        | 1985-1990                                                     | UNPD_World Population Prospects_2006 (International estimate) | Years                                                         | 41                                                            |                                                               |\n",
       "| Afghanistan                                                   | Male                                                          | 2000-2005                                                     | UNPD_World Population Prospects_2006 (International estimate) | Years                                                         | 42                                                            |                                                               |\n",
       "| Afghanistan                                                   | Male                                                          | 1995-2000                                                     | UNPD_World Population Prospects_2006 (International estimate) | Years                                                         | 42                                                            |                                                               |\n",
       "\n"
      ],
      "text/plain": [
       "  Country.or.Area Subgroup Year     \n",
       "1 Afghanistan     Female   2000-2005\n",
       "2 Afghanistan     Female   1995-2000\n",
       "3 Afghanistan     Female   1990-1995\n",
       "4 Afghanistan     Female   1985-1990\n",
       "5 Afghanistan     Male     2000-2005\n",
       "6 Afghanistan     Male     1995-2000\n",
       "  Source                                                        Unit  Value\n",
       "1 UNPD_World Population Prospects_2006 (International estimate) Years 42   \n",
       "2 UNPD_World Population Prospects_2006 (International estimate) Years 42   \n",
       "3 UNPD_World Population Prospects_2006 (International estimate) Years 42   \n",
       "4 UNPD_World Population Prospects_2006 (International estimate) Years 41   \n",
       "5 UNPD_World Population Prospects_2006 (International estimate) Years 42   \n",
       "6 UNPD_World Population Prospects_2006 (International estimate) Years 42   \n",
       "  Value.Footnotes\n",
       "1                \n",
       "2                \n",
       "3                \n",
       "4                \n",
       "5                \n",
       "6                "
      ]
     },
     "metadata": {},
     "output_type": "display_data"
    }
   ],
   "source": [
    "head(life_expectancy)"
   ]
  },
  {
   "cell_type": "code",
   "execution_count": 20,
   "id": "e1296a1e-50bb-4ad5-83e1-bf1bc59680b5",
   "metadata": {
    "executionCancelledAt": null,
    "executionTime": 15,
    "lastExecutedAt": 1725235245661,
    "lastExecutedByKernel": "90a47145-5c62-4855-b869-0043b9ce4f18",
    "lastScheduledRunId": null,
    "lastSuccessfullyExecutedCode": "# Start coding here\n# Use as many cells as you need",
    "vscode": {
     "languageId": "r"
    }
   },
   "outputs": [
    {
     "ename": "ERROR",
     "evalue": "Error in life_expectancy %>% filter(is.na(Value)): could not find function \"%>%\"\n",
     "output_type": "error",
     "traceback": [
      "Error in life_expectancy %>% filter(is.na(Value)): could not find function \"%>%\"\nTraceback:\n"
     ]
    }
   ],
   "source": [
    "# Start coding here\n",
    "# Use as many cells as you need\n",
    "life_expectancy %>%\n",
    "  filter(is.na(Value))"
   ]
  }
 ],
 "metadata": {
  "editor": "DataLab",
  "kernelspec": {
   "display_name": "R",
   "language": "R",
   "name": "ir"
  },
  "language_info": {
   "codemirror_mode": "r",
   "file_extension": ".r",
   "mimetype": "text/x-r-source",
   "name": "R",
   "pygments_lexer": "r",
   "version": "3.6.1"
  }
 },
 "nbformat": 4,
 "nbformat_minor": 5
}
