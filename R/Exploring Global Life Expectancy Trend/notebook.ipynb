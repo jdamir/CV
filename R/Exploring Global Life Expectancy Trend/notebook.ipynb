{
 "cells": [
  {
   "cell_type": "markdown",
   "id": "df167b1d-e2a5-44ad-9e1d-dc0bba2428b5",
   "metadata": {},
   "source": [
    "![life](life.jpg)\n",
    "\n",
    "You are a data analyst for a United Nations initiative focused on understanding global health trends. Your latest assignment is to explore and visualize life expectancy data from around the world, focusing on gender differences. \n",
    "\n",
    "Life expectancy can vary significantly over time and across different countries due to numerous factors, including advancements in medicine, a country's development level, and the impacts of conflicts. Interestingly, data consistently shows that women tend to live longer than men, raising intriguing questions. Could this be due to biological factors or perhaps because women generally care for their health better?\n",
    "\n",
    "Your task is to explore these patterns and disparities. \n",
    "\n",
    "### The Data\n",
    "\n",
    "The dataset contains information about life expectancy in various countries or areas, broken down by gender and time periods. The data is sourced from the _United Nations Population Division, Gender Statistics, Life Expectancy at Birth_.\n",
    "\n",
    "#### UNdata.csv\n",
    "\n",
    "| Column            | Meaning                                                                                        |\n",
    "| ----------------- | ---------------------------------------------------------------------------------------------- |\n",
    "| `Country.or.Area` | The name of the country or region being described.                                              |\n",
    "| `Subgroup`        | The specific subgroup within the country or area (e.g., Female, Male).                          |\n",
    "| `Year`            | The time period for the data provided (e.g., 2000-2005).                                        |\n",
    "| `Source`          | The source of the data, specifying the UN publication or report where the data originated.      |\n",
    "| `Unit`            | The unit of measurement for life expectancy.                  |\n",
    "| `Value`           | The measured value for the life expectancy in the specified country, subgroup, and time period. |\n",
    "| `Value.Footnotes` | Additional notes or comments related to the value, if any.                                      |\n"
   ]
  },
  {
   "cell_type": "markdown",
   "id": "0354627c",
   "metadata": {},
   "source": [
    "Analyze and visualize global life expectancy data with a focus on gender disparities, using a United Nations dataset. As part of your analysis, answer the following key questions:\n",
    "\n",
    "Does the Value column contain any missing data?\n",
    "\n",
    "Save your answer as a boolean variable (TRUE or FALSE) named missing.\n",
    "\n",
    "How does life expectancy differ between men and women across countries overall, in the 2000-2005 period? \n",
    "Save your answer as a variable named subgroup with the value \"Female\" if female life expectancy is higher, and \"Male\" if male life expectancy is higher.\n",
    "\n",
    "Which countries exhibit the largest disparities in life expectancy between genders, in the 2000-2005 subgroup? \n",
    "Save the top 3 countries with the largest male-female disparities as a variable named disparities."
   ]
  },
  {
   "cell_type": "code",
   "execution_count": null,
   "id": "71997b6d",
   "metadata": {
    "vscode": {
     "languageId": "r"
    }
   },
   "outputs": [],
   "source": [
    "library(dplyr)\n",
    "library(tidyr)\n",
    "library(ggplot2)\n",
    "life_expectancy = read.csv(\"datasets/UNdata.csv\") # nolint"
   ]
  },
  {
   "cell_type": "code",
   "execution_count": null,
   "id": "a6c65ab6",
   "metadata": {
    "vscode": {
     "languageId": "r"
    }
   },
   "outputs": [],
   "source": [
    "missing <- life_expectancy %>%\n",
    "  filter(is.na(Value)) %>%\n",
    "  count()\n",
    "   # nolint\n",
    "print(missing)"
   ]
  },
  {
   "cell_type": "code",
   "execution_count": null,
   "id": "9257a115",
   "metadata": {
    "vscode": {
     "languageId": "r"
    }
   },
   "outputs": [],
   "source": [
    "subgroup_data <- life_expectancy %>%\n",
    "  filter(Year == '2000-2005' & (Subgroup == \"Female\" | Subgroup == \"Male\")) %>%\n",
    "  spread(key = Subgroup, value = Value) %>%\n",
    "  # Spread to wide format  # nolint\n",
    "  mutate(subgroup = ifelse(Female > Male, \"Female\", ifelse(Female < Male, \"Male\", \"Female\"))) # nolint"
   ]
  },
  {
   "cell_type": "code",
   "execution_count": null,
   "id": "cf0dfd18",
   "metadata": {
    "vscode": {
     "languageId": "r"
    }
   },
   "outputs": [],
   "source": [
    "# Create a scatter plot with a smooth line\n",
    "ggplot(subgroup_data, aes(x = Female, y = Male, color = subgroup)) +\n",
    "  geom_point() + \n",
    "  #geom_smooth(formula = y ~ x, method = \"lm\", se = FALSE) +\n",
    "  labs(title = \"Comparison of Values between Male and Female by Country\",\n",
    "\t   x = \"Male Value\", # nolint\n",
    "\t   y = \"Female Value\", # nolint\n",
    "\t   color = \"Dominant Subgroup\") + # nolint\n",
    "  theme_minimal()"
   ]
  },
  {
   "cell_type": "code",
   "execution_count": null,
   "id": "95ade052",
   "metadata": {
    "vscode": {
     "languageId": "r"
    }
   },
   "outputs": [],
   "source": [
    "subgroup <- subgroup_data %>%\n",
    "  summarise(highest_avg_life_expectancy = ifelse(mean(Female, na.rm = TRUE) >\n",
    "            mean(Male, na.rm = TRUE), \"Female\",\"Male\")) # nolint"
   ]
  },
  {
   "cell_type": "code",
   "execution_count": null,
   "id": "ff103f99",
   "metadata": {
    "vscode": {
     "languageId": "r"
    }
   },
   "outputs": [],
   "source": [
    "disparities_data <- life_expectancy %>% \n",
    "  filter(Year == '2000-2005' & (Subgroup == \"Female\" | Subgroup == \"Male\")) %>%\n",
    "  pivot_wider(names_from = Subgroup, values_from = Value) %>%\n",
    "  # Spread to wide format  # nolint\n",
    "  mutate(subgroup = ifelse(Female > Male, \"Female\", ifelse(Female < Male, \"Male\", \"Female\"))) %>%  # nolint\n",
    "  mutate(disparities = abs(Female - Male)) %>%\n",
    "  arrange(desc(disparities)) %>%\n",
    "  slice_max(disparities, n = 3, with_ties = FALSE)"
   ]
  },
  {
   "cell_type": "code",
   "execution_count": null,
   "id": "908f8ffc",
   "metadata": {
    "vscode": {
     "languageId": "r"
    }
   },
   "outputs": [],
   "source": [
    "disparities <- c(disparities_data$Country.or.Area)"
   ]
  },
  {
   "cell_type": "code",
   "execution_count": null,
   "id": "3ade248a",
   "metadata": {
    "vscode": {
     "languageId": "r"
    }
   },
   "outputs": [],
   "source": [
    "\n",
    "# Join Male and Female data by 'Country.or.Area' and add a subgroup column\n",
    "#subgroup <- Female %>%\n",
    "# inner_join(Male, by = \"Country.or.Area\", suffix = c(\"_female\", \"_male\")) %>%\n",
    "# mutate(subgroup = ifelse(Value_female > Value_male, \"Female\", \n",
    "#                       ifelse(Value_female < Value_male, \"Male\", \"Equal\")))\n",
    "\n",
    "# View the resulting data\n",
    "print(subgroup)\n"
   ]
  }
 ],
 "metadata": {
  "editor": "DataLab",
  "kernelspec": {
   "display_name": "R",
   "language": "R",
   "name": "ir"
  },
  "language_info": {
   "codemirror_mode": "r",
   "file_extension": ".r",
   "mimetype": "text/x-r-source",
   "name": "R",
   "pygments_lexer": "r",
   "version": "3.6.1"
  }
 },
 "nbformat": 4,
 "nbformat_minor": 5
}
