{
 "cells": [
  {
   "cell_type": "markdown",
   "id": "df167b1d-e2a5-44ad-9e1d-dc0bba2428b5",
   "metadata": {},
   "source": [
    "![life](life.jpg)\n",
    "\n",
    "You are a data analyst for a United Nations initiative focused on understanding global health trends. Your latest assignment is to explore and visualize life expectancy data from around the world, focusing on gender differences. \n",
    "\n",
    "Life expectancy can vary significantly over time and across different countries due to numerous factors, including advancements in medicine, a country's development level, and the impacts of conflicts. Interestingly, data consistently shows that women tend to live longer than men, raising intriguing questions. Could this be due to biological factors or perhaps because women generally care for their health better?\n",
    "\n",
    "Your task is to explore these patterns and disparities. \n",
    "\n",
    "### The Data\n",
    "\n",
    "The dataset contains information about life expectancy in various countries or areas, broken down by gender and time periods. The data is sourced from the _United Nations Population Division, Gender Statistics, Life Expectancy at Birth_.\n",
    "\n",
    "#### UNdata.csv\n",
    "\n",
    "| Column            | Meaning                                                                                        |\n",
    "| ----------------- | ---------------------------------------------------------------------------------------------- |\n",
    "| `Country.or.Area` | The name of the country or region being described.                                              |\n",
    "| `Subgroup`        | The specific subgroup within the country or area (e.g., Female, Male).                          |\n",
    "| `Year`            | The time period for the data provided (e.g., 2000-2005).                                        |\n",
    "| `Source`          | The source of the data, specifying the UN publication or report where the data originated.      |\n",
    "| `Unit`            | The unit of measurement for life expectancy.                  |\n",
    "| `Value`           | The measured value for the life expectancy in the specified country, subgroup, and time period. |\n",
    "| `Value.Footnotes` | Additional notes or comments related to the value, if any.                                      |\n"
   ]
  },
  {
   "cell_type": "code",
   "execution_count": 7,
   "id": "bf55d988-22d4-4f7a-a6b9-073809760776",
   "metadata": {
    "executionCancelledAt": null,
    "executionTime": 2294,
    "lastExecutedAt": 1725376107202,
    "lastExecutedByKernel": "5e38aed1-e095-484f-bb9f-9d68ad89ee2b",
    "lastScheduledRunId": null,
    "lastSuccessfullyExecutedCode": "library(dplyr)\nlibrary(tidyr)\nlibrary(ggplot2)\n\nlife_expectancy=read.csv(\"datasets/UNdata.csv\")\nhead(life_expectancy)",
    "outputsMetadata": {
     "0": {
      "height": 311,
      "type": "stream"
     },
     "1": {
      "height": 266,
      "type": "dataFrame"
     },
     "2": {
      "height": 196,
      "type": "dataFrame"
     }
    },
    "vscode": {
     "languageId": "r"
    }
   },
   "outputs": [
    {
     "ename": "ERROR",
     "evalue": "Error in library(dplyr): there is no package called 'dplyr'\n",
     "output_type": "error",
     "traceback": [
      "Error in library(dplyr): there is no package called 'dplyr'\nTraceback:\n",
      "1. library(dplyr)"
     ]
    }
   ],
   "source": [
    "library(dplyr)\n",
    "library(tidyr)\n",
    "library(ggplot2)\n",
    "\n",
    "life_expectancy = read.csv(\"datasets/UNdata.csv\") # nolint\n",
    "head(life_expectancy)"
   ]
  },
  {
   "cell_type": "code",
   "execution_count": null,
   "id": "71997b6d",
   "metadata": {
    "vscode": {
     "languageId": "r"
    }
   },
   "outputs": [
    {
     "name": "stderr",
     "output_type": "stream",
     "text": [
      "also installing the dependencies 'fansi', 'utf8', 'pkgconfig', 'withr', 'cli', 'generics', 'glue', 'lifecycle', 'magrittr', 'pillar', 'R6', 'rlang', 'tibble', 'tidyselect', 'vctrs'\n",
      "\n",
      "Warning message:\n",
      "\"unable to access index for repository https://cran.r-project.org/bin/windows/contrib/3.6:\n",
      "  cannot open URL 'https://cran.r-project.org/bin/windows/contrib/3.6/PACKAGES'\"Packages which are only available in source form, and may need\n",
      "  compilation of C/C++/Fortran: 'fansi' 'utf8' 'cli' 'glue' 'magrittr'\n",
      "  'rlang' 'tibble' 'tidyselect' 'vctrs' 'dplyr'\n"
     ]
    },
    {
     "name": "stdout",
     "output_type": "stream",
     "text": [
      "  These will not be installed\n"
     ]
    },
    {
     "name": "stderr",
     "output_type": "stream",
     "text": [
      "installing the source packages 'pkgconfig', 'withr', 'generics', 'lifecycle', 'pillar', 'R6'\n",
      "\n",
      "Warning message in install.packages(\"dplyr\"):\n",
      "\"installation of package 'lifecycle' had non-zero exit status\"Warning message in install.packages(\"dplyr\"):\n",
      "\"installation of package 'pillar' had non-zero exit status\""
     ]
    }
   ],
   "source": []
  },
  {
   "cell_type": "code",
   "execution_count": null,
   "id": "6b9572fe",
   "metadata": {
    "vscode": {
     "languageId": "r"
    }
   },
   "outputs": [
    {
     "ename": "ERROR",
     "evalue": "Error in library(dplyr): there is no package called 'dplyr'\n",
     "output_type": "error",
     "traceback": [
      "Error in library(dplyr): there is no package called 'dplyr'\nTraceback:\n",
      "1. library(dplyr)"
     ]
    }
   ],
   "source": []
  },
  {
   "cell_type": "code",
   "execution_count": null,
   "id": "e1296a1e-50bb-4ad5-83e1-bf1bc59680b5",
   "metadata": {
    "executionCancelledAt": null,
    "executionTime": 15,
    "lastExecutedAt": 1725235245661,
    "lastExecutedByKernel": "90a47145-5c62-4855-b869-0043b9ce4f18",
    "lastScheduledRunId": null,
    "lastSuccessfullyExecutedCode": "# Start coding here\n# Use as many cells as you need",
    "vscode": {
     "languageId": "r"
    }
   },
   "outputs": [],
   "source": [
    "# Start coding here\n",
    "# Use as many cells as you need"
   ]
  }
 ],
 "metadata": {
  "editor": "DataLab",
  "kernelspec": {
   "display_name": "R",
   "language": "R",
   "name": "ir"
  },
  "language_info": {
   "codemirror_mode": "r",
   "file_extension": ".r",
   "mimetype": "text/x-r-source",
   "name": "R",
   "pygments_lexer": "r",
   "version": "3.6.1"
  }
 },
 "nbformat": 4,
 "nbformat_minor": 5
}
