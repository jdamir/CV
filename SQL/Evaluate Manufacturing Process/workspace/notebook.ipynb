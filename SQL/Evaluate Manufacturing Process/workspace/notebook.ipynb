{
 "cells": [
  {
   "cell_type": "code",
   "execution_count": null,
   "metadata": {
    "vscode": {
     "languageId": "plaintext"
    }
   },
   "outputs": [],
   "source": [
    "# Load the DBI package\n",
    "library(DBI)"
   ]
  },
  {
   "cell_type": "code",
   "execution_count": null,
   "metadata": {
    "vscode": {
     "languageId": "plaintext"
    }
   },
   "outputs": [],
   "source": [
    "#Step 1: Find file postgresql.conf in C:\\Program Files\\PostgreSQL\\13\\data then set password_encryption = md5 # nolint\n",
    "#Step 2: Find file pg_hba.conf in C:\\Program Files\\PostgreSQL\\13\\data then change all METHOD to md5 # nolint\n",
    "#Step 3: Open command line (cmd,cmder,git bash...) and run psql -U postgres then enter your password when installed postgres sql # nolint\n",
    "#Step 4: Then change your password by run ALTER USER postgres WITH PASSWORD 'new-password'; in command line # nolint\n",
    "#Final: Restart service postgresql-x64-1X in your Service."
   ]
  },
  {
   "cell_type": "code",
   "execution_count": null,
   "metadata": {
    "vscode": {
     "languageId": "plaintext"
    }
   },
   "outputs": [],
   "source": [
    "# Connect to the PostgreSQL database: con\n",
    "con <- dbConnect(RPostgreSQL::PostgreSQL(),  # nolint\n",
    "                 dbname = \"parts\", # nolint\n",
    "                 host = \"127.0.0.1\", # nolint\n",
    "                 port = 5432,\n",
    "                 user = \"postgres\",\n",
    "                 password = \"your_password\")"
   ]
  },
  {
   "cell_type": "code",
   "execution_count": null,
   "metadata": {
    "vscode": {
     "languageId": "plaintext"
    }
   },
   "outputs": [],
   "source": [
    "# Count\n",
    "parts <- dbGetQuery(con, \"WITH agg AS (\n",
    "\tSELECT \n",
    "\t\toperator,\n",
    "\t\tROW_NUMBER () OVER (PARTITION BY operator ORDER BY item_no) AS row_number,\n",
    "\t\theight,\t\n",
    "\t\tAVG(height) \n",
    "        OVER(PARTITION BY operator ORDER BY \n",
    "        item_no RANGE BETWEEN 4 PRECEDING AND CURRENT ROW) \n",
    "        AS avg_height,\n",
    "\t\t STDDEV(height) \n",
    "         OVER (PARTITION BY operator ORDER BY \n",
    "         item_no RANGE BETWEEN 4 PRECEDING AND CURRENT ROW) \n",
    "         AS stddev_height\n",
    "\tFROM parts p\n",
    "\t--WHERE operator = 'Op-2'\n",
    "),\t\n",
    "control_limits AS (\n",
    "    SELECT\n",
    "\t\tag.operator AS operator,\n",
    "\t\tag.row_number AS row_number,\n",
    "\t\tag.height AS height,\n",
    "\t\tag.avg_height AS avg_height,\n",
    "\t\tag.stddev_height AS stddev_height,\n",
    "        ag.avg_height + (3 * ag.stddev_height / SQRT(5)) AS ucl,\n",
    "        ag.avg_height - (3 * ag.stddev_height / SQRT(5)) AS lcl\n",
    "    FROM agg ag\n",
    ")\n",
    "SELECT operator,\n",
    "\t   row_number,\n",
    "\t   height,\n",
    "\t   avg_height,\n",
    "\t   stddev_height,\n",
    "       ucl,\n",
    "       lcl,\n",
    "       CASE \n",
    "           WHEN height > ucl OR height < lcl THEN TRUE\n",
    "           ELSE FALSE\n",
    "       END AS alert\n",
    "FROM control_limits cl\n",
    "WHERE row_number >= 5\n",
    "--ORDER BY alert DESC\n",
    "\") # nolint\n"
   ]
  },
  {
   "cell_type": "code",
   "execution_count": null,
   "metadata": {
    "vscode": {
     "languageId": "plaintext"
    }
   },
   "outputs": [],
   "source": [
    "# Print parts\n",
    "print(parts)"
   ]
  }
 ],
 "metadata": {
  "language_info": {
   "name": "python"
  }
 },
 "nbformat": 4,
 "nbformat_minor": 2
}
